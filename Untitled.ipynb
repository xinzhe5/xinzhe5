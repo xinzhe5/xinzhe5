{
 "cells": [
  {
   "cell_type": "code",
   "execution_count": null,
   "id": "6ed007ad",
   "metadata": {},
   "outputs": [],
   "source": [
    "t=input()\n",
    "if t[0:4] in ['RMB']:\n",
    "    U=eval(t[4:])/6.78\n",
    "    print(\"USD{:.2f}\".format(U))\n",
    "elif t[0:4] in ['USD']:\n",
    "    R = eval(t[4:])*6.78\n",
    "    print(\"RMB{:.2f}\".format(R))\n",
    "else:\n",
    "    print() #不输入任何错误提示"
   ]
  },
  {
   "cell_type": "code",
   "execution_count": null,
   "id": "e6f84b7c",
   "metadata": {},
   "outputs": [],
   "source": []
  }
 ],
 "metadata": {
  "kernelspec": {
   "display_name": "Python 3",
   "language": "python",
   "name": "python3"
  },
  "language_info": {
   "codemirror_mode": {
    "name": "ipython",
    "version": 3
   },
   "file_extension": ".py",
   "mimetype": "text/x-python",
   "name": "python",
   "nbconvert_exporter": "python",
   "pygments_lexer": "ipython3",
   "version": "3.8.8"
  }
 },
 "nbformat": 4,
 "nbformat_minor": 5
}
